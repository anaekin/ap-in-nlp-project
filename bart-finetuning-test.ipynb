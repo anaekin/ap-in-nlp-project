{
 "cells": [
  {
   "cell_type": "code",
   "execution_count": 1,
   "metadata": {},
   "outputs": [
    {
     "name": "stderr",
     "output_type": "stream",
     "text": [
      "c:\\Users\\anime\\AppData\\Local\\Programs\\Python\\Python312\\Lib\\site-packages\\tqdm\\auto.py:21: TqdmWarning: IProgress not found. Please update jupyter and ipywidgets. See https://ipywidgets.readthedocs.io/en/stable/user_install.html\n",
      "  from .autonotebook import tqdm as notebook_tqdm\n"
     ]
    }
   ],
   "source": [
    "import torch\n",
    "from transformers import BartForConditionalGeneration, BartTokenizer\n",
    "from datasets import load_dataset\n",
    "from evaluate import load\n",
    "import numpy as np\n",
    "\n",
    "dataset = load_dataset(\"knkarthick/dialogsum\")\n",
    "test_dataset = dataset[\"test\"]\n"
   ]
  },
  {
   "cell_type": "code",
   "execution_count": 2,
   "metadata": {},
   "outputs": [],
   "source": [
    "import torch"
   ]
  },
  {
   "cell_type": "code",
   "execution_count": null,
   "metadata": {},
   "outputs": [
    {
     "name": "stderr",
     "output_type": "stream",
     "text": [
      "c:\\Users\\anime\\anaconda3\\Lib\\site-packages\\transformers\\models\\bart\\configuration_bart.py:176: UserWarning: Please make sure the config includes `forced_bos_token_id=0` in future versions. The config can simply be saved and uploaded again to be fixed.\n",
      "  warnings.warn(\n",
      "c:\\Users\\anime\\anaconda3\\Lib\\site-packages\\transformers\\generation\\utils.py:1493: UserWarning: You have modified the pretrained model configuration to control generation. This is a deprecated strategy to control generation and will be removed in v5. Please use and modify the model generation configuration (see https://huggingface.co/docs/transformers/generation_strategies#default-text-generation-configuration )\n",
      "  warnings.warn(\n"
     ]
    },
    {
     "name": "stdout",
     "output_type": "stream",
     "text": [
      "Input Dialogue: #Person1#: Ms. Dawson, I need you to take a dictation for me.\n",
      "#Person2#: Yes, sir...\n",
      "#Person1#: This should go out as an intra-office memorandum to all employees by this afternoon. Are you ready?\n",
      "#Person2#: Yes, sir. Go ahead.\n",
      "#Person1#: Attention all staff... Effective immediately, all office communications are restricted to email correspondence and official memos. The use of Instant Message programs by employees during working hours is strictly prohibited.\n",
      "#Person2#: Sir, does this apply to intra-office communications only? Or will it also restrict external communications?\n",
      "#Person1#: It should apply to all communications, not only in this office between employees, but also any outside communications.\n",
      "#Person2#: But sir, many employees use Instant Messaging to communicate with their clients.\n",
      "#Person1#: They will just have to change their communication methods. I don't want any - one using Instant Messaging in this office. It wastes too much time! Now, please continue with the memo. Where were we?\n",
      "#Person2#: This applies to internal and external communications.\n",
      "#Person1#: Yes. Any employee who persists in using Instant Messaging will first receive a warning and be placed on probation. At second offense, the employee will face termination. Any questions regarding this new policy may be directed to department heads.\n",
      "#Person2#: Is that all?\n",
      "#Person1#: Yes. Please get this memo typed up and distributed to all employees before 4 pm.\n",
      "Generated Summary:  to to to to to to to to to to to to to to to to to to to to to to to to to to to to to to to to to to to to to to to to to to to to to to to to to to to to to to to to to to to to to to to to to to to to to to to to to to to to to to to to to to to to to to to to to to to to to to to to to to to to to to to to to to to to to to to to to to to to to to to to to to to to to\n",
      "Reference Summary: Ms. Dawson helps #Person1# to write a memo to inform every employee that they have to change the communication method and should not use Instant Messaging anymore.\n",
      "--------------------------------------------------\n",
      "Input Dialogue: #Person1#: Ms. Dawson, I need you to take a dictation for me.\n",
      "#Person2#: Yes, sir...\n",
      "#Person1#: This should go out as an intra-office memorandum to all employees by this afternoon. Are you ready?\n",
      "#Person2#: Yes, sir. Go ahead.\n",
      "#Person1#: Attention all staff... Effective immediately, all office communications are restricted to email correspondence and official memos. The use of Instant Message programs by employees during working hours is strictly prohibited.\n",
      "#Person2#: Sir, does this apply to intra-office communications only? Or will it also restrict external communications?\n",
      "#Person1#: It should apply to all communications, not only in this office between employees, but also any outside communications.\n",
      "#Person2#: But sir, many employees use Instant Messaging to communicate with their clients.\n",
      "#Person1#: They will just have to change their communication methods. I don't want any - one using Instant Messaging in this office. It wastes too much time! Now, please continue with the memo. Where were we?\n",
      "#Person2#: This applies to internal and external communications.\n",
      "#Person1#: Yes. Any employee who persists in using Instant Messaging will first receive a warning and be placed on probation. At second offense, the employee will face termination. Any questions regarding this new policy may be directed to department heads.\n",
      "#Person2#: Is that all?\n",
      "#Person1#: Yes. Please get this memo typed up and distributed to all employees before 4 pm.\n",
      "Generated Summary:  to to to to to to to to to to to to to to to to to to to to to to to to to to to to to to to to to to to to to to to to to to to to to to to to to to to to to to to to to to to to to to to to to to to to to to to to to to to to to to to to to to to to to to to to to to to to to to to to to to to to to to to to to to to to to to to to to to to to to to to to to to to to to\n",
      "Reference Summary: In order to prevent employees from wasting time on Instant Message programs, #Person1# decides to terminate the use of those programs and asks Ms. Dawson to send out a memo to all employees by the afternoon.\n",
      "--------------------------------------------------\n"
     ]
    }
   ],
   "source": [
    "\n",
    "\n",
    "# Load ROUGE metric (do this once, outside the loop)\n",
    "metric = load(\"bertscore\")\n",
    "\n",
    "\n",
    "def load_model_and_tokenizer(model_path):\n",
    "    model = BartForConditionalGeneration.from_pretrained(model_path)\n",
    "    tokenizer = BartTokenizer.from_pretrained(model_path)\n",
    "    return model, tokenizer\n",
    "\n",
    "\n",
    "def generate_summaries(model, tokenizer, dataset, num_examples=None, max_source_length=512):\n",
    "    \"\"\"Generates summaries and calculates ROUGE scores.\"\"\"\n",
    "    model.eval()\n",
    "    model.to(\"cuda\" if torch.cuda.is_available() else \"cpu\")\n",
    "\n",
    "    all_decoded_preds = []\n",
    "    all_decoded_labels = []\n",
    "\n",
    "\n",
    "    # Process all examples if num_examples is not specified, otherwise process the specified number\n",
    "    num_examples = len(dataset) if num_examples is None else num_examples\n",
    "\n",
    "\n",
    "    for i in range(num_examples):\n",
    "        input_dialogue = dataset[i][\"dialogue\"]\n",
    "        input_ids = tokenizer.encode(\n",
    "            input_dialogue, return_tensors=\"pt\", max_length=max_source_length, truncation=True\n",
    "        ).to(model.device)\n",
    "\n",
    "        # Generate summary with specified parameters\n",
    "        gen_kwargs = {\n",
    "            \"max_length\": 128,  # Adjust as needed\n",
    "            \"num_beams\": 4,      # Adjust as needed\n",
    "            \"no_repeat_ngram_size\": 3,  # Add this to prevent repetitions\n",
    "            \"length_penalty\": 1.0 # Add this to penalize short summaries\n",
    "        }\n",
    "\n",
    "        with torch.no_grad(): # Add this to disable gradient calculations\n",
    "            generated_ids = model.generate(input_ids=input_ids, **gen_kwargs)\n",
    "\n",
    "\n",
    "        generated_summary = tokenizer.decode(generated_ids[0], skip_special_tokens=True)\n",
    "        reference_summary = dataset[i]['summary']\n",
    "\n",
    "        all_decoded_preds.append(generated_summary)\n",
    "        all_decoded_labels.append(reference_summary)\n",
    "\n",
    "        print(f\"Input Dialogue:\\n{input_dialogue[:200]}...\") # Shorten input for display\n",
    "        print(f\"Generated Summary:\\n{generated_summary}\")\n",
    "        print(f\"Reference Summary:\\n{reference_summary}\")\n",
    "        print(\"-\" * 50)\n",
    "\n",
    "\n",
    "\n",
    "    # Calculate ROUGE scores after generating all summaries\n",
    "    result = metric.compute(predictions=all_decoded_preds, references=all_decoded_labels, use_stemmer=True)\n",
    "    result = {key: value * 100 for key, value in result.items()}  # Convert to percentage\n",
    "\n",
    "    # Print ROUGE scores\n",
    "    print(\"ROUGE Scores:\")\n",
    "    for key, value in result.items():\n",
    "        print(f\"{key}: {value:.2f}\")\n",
    "\n",
    "# Example Usage (assuming you have a 'test_dataset' loaded):\n",
    "model_path = \"./bart-large-cnn-finetuned-dialogsum\"\n",
    "model, tokenizer = load_model_and_tokenizer(model_path)\n",
    "generate_summaries(model, tokenizer, test_dataset, num_examples=10) # Pass dataset, num_examples to limit the processing to 10 examples"
   ]
  },
  {
   "cell_type": "code",
   "execution_count": null,
   "metadata": {},
   "outputs": [],
   "source": [
    "\n",
    "# def evaluate_model(decoded_preds, test_dataset):  # No need for model_name\n",
    "#     rouge = evaluate.load(\"rouge\")\n",
    "#     references = test_dataset[\"summary\"]\n",
    "#     rouge_results = rouge.compute(predictions=decoded_preds, references=references)\n",
    "\n",
    "#     print(\"ROUGE-1:\", rouge_results[\"rouge1\"])\n",
    "#     print(\"ROUGE-2:\", rouge_results[\"rouge2\"])\n",
    "#     print(\"ROUGE-L:\", rouge_results[\"rougeL\"])\n",
    "\n",
    "#     P, R, F1 = score(decoded_preds, references, lang=\"en\", verbose=True)\n",
    "#     print(\"BERTScore F1:\", F1.mean().item())\n"
   ]
  }
 ],
 "metadata": {
  "kernelspec": {
   "display_name": "Python 3",
   "language": "python",
   "name": "python3"
  },
  "language_info": {
   "codemirror_mode": {
    "name": "ipython",
    "version": 3
   },
   "file_extension": ".py",
   "mimetype": "text/x-python",
   "name": "python",
   "nbconvert_exporter": "python",
   "pygments_lexer": "ipython3",
   "version": "3.12.4"
  }
 },
 "nbformat": 4,
 "nbformat_minor": 2
}
