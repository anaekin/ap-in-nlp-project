{
 "cells": [
  {
   "cell_type": "code",
   "execution_count": null,
   "metadata": {},
   "outputs": [
    {
     "name": "stderr",
     "output_type": "stream",
     "text": [
      "c:\\Users\\anime\\anaconda3\\Lib\\site-packages\\transformers\\models\\bart\\configuration_bart.py:176: UserWarning: Please make sure the config includes `forced_bos_token_id=0` in future versions. The config can simply be saved and uploaded again to be fixed.\n",
      "  warnings.warn(\n",
      "c:\\Users\\anime\\anaconda3\\Lib\\site-packages\\transformers\\generation\\utils.py:1493: UserWarning: You have modified the pretrained model configuration to control generation. This is a deprecated strategy to control generation and will be removed in v5. Please use and modify the model generation configuration (see https://huggingface.co/docs/transformers/generation_strategies#default-text-generation-configuration )\n",
      "  warnings.warn(\n"
     ]
    },
    {
     "name": "stdout",
     "output_type": "stream",
     "text": [
      "Input Dialogue: #Person1#: Ms. Dawson, I need you to take a dictation for me.\n",
      "#Person2#: Yes, sir...\n",
      "#Person1#: This should go out as an intra-office memorandum to all employees by this afternoon. Are you ready?\n",
      "#Person2#: Yes, sir. Go ahead.\n",
      "#Person1#: Attention all staff... Effective immediately, all office communications are restricted to email correspondence and official memos. The use of Instant Message programs by employees during working hours is strictly prohibited.\n",
      "#Person2#: Sir, does this apply to intra-office communications only? Or will it also restrict external communications?\n",
      "#Person1#: It should apply to all communications, not only in this office between employees, but also any outside communications.\n",
      "#Person2#: But sir, many employees use Instant Messaging to communicate with their clients.\n",
      "#Person1#: They will just have to change their communication methods. I don't want any - one using Instant Messaging in this office. It wastes too much time! Now, please continue with the memo. Where were we?\n",
      "#Person2#: This applies to internal and external communications.\n",
      "#Person1#: Yes. Any employee who persists in using Instant Messaging will first receive a warning and be placed on probation. At second offense, the employee will face termination. Any questions regarding this new policy may be directed to department heads.\n",
      "#Person2#: Is that all?\n",
      "#Person1#: Yes. Please get this memo typed up and distributed to all employees before 4 pm.\n",
      "Generated Summary:  to to to to to to to to to to to to to to to to to to to to to to to to to to to to to to to to to to to to to to to to to to to to to to to to to to to to to to to to to to to to to to to to to to to to to to to to to to to to to to to to to to to to to to to to to to to to to to to to to to to to to to to to to to to to to to to to to to to to to to to to to to to to to\n",
      "Reference Summary: Ms. Dawson helps #Person1# to write a memo to inform every employee that they have to change the communication method and should not use Instant Messaging anymore.\n",
      "--------------------------------------------------\n",
      "Input Dialogue: #Person1#: Ms. Dawson, I need you to take a dictation for me.\n",
      "#Person2#: Yes, sir...\n",
      "#Person1#: This should go out as an intra-office memorandum to all employees by this afternoon. Are you ready?\n",
      "#Person2#: Yes, sir. Go ahead.\n",
      "#Person1#: Attention all staff... Effective immediately, all office communications are restricted to email correspondence and official memos. The use of Instant Message programs by employees during working hours is strictly prohibited.\n",
      "#Person2#: Sir, does this apply to intra-office communications only? Or will it also restrict external communications?\n",
      "#Person1#: It should apply to all communications, not only in this office between employees, but also any outside communications.\n",
      "#Person2#: But sir, many employees use Instant Messaging to communicate with their clients.\n",
      "#Person1#: They will just have to change their communication methods. I don't want any - one using Instant Messaging in this office. It wastes too much time! Now, please continue with the memo. Where were we?\n",
      "#Person2#: This applies to internal and external communications.\n",
      "#Person1#: Yes. Any employee who persists in using Instant Messaging will first receive a warning and be placed on probation. At second offense, the employee will face termination. Any questions regarding this new policy may be directed to department heads.\n",
      "#Person2#: Is that all?\n",
      "#Person1#: Yes. Please get this memo typed up and distributed to all employees before 4 pm.\n",
      "Generated Summary:  to to to to to to to to to to to to to to to to to to to to to to to to to to to to to to to to to to to to to to to to to to to to to to to to to to to to to to to to to to to to to to to to to to to to to to to to to to to to to to to to to to to to to to to to to to to to to to to to to to to to to to to to to to to to to to to to to to to to to to to to to to to to to\n",
      "Reference Summary: In order to prevent employees from wasting time on Instant Message programs, #Person1# decides to terminate the use of those programs and asks Ms. Dawson to send out a memo to all employees by the afternoon.\n",
      "--------------------------------------------------\n"
     ]
    }
   ],
   "source": [
    "from transformers import BartForConditionalGeneration, BartTokenizer\n",
    "import torch\n",
    "from datasets import load_dataset\n",
    "\n",
    "dataset = load_dataset(\"knkarthick/dialogsum\")\n",
    "\n",
    "original_test_dataset = dataset[\"test\"]\n",
    "\n",
    "def load_model_and_tokenizer(model_path):\n",
    "    # Load the fine-tuned model and tokenizer\n",
    "    model = BartForConditionalGeneration.from_pretrained(model_path)\n",
    "    tokenizer = BartTokenizer.from_pretrained(model_path)\n",
    "    return model, tokenizer\n",
    "\n",
    "\n",
    "def generate_summaries(model, tokenizer, original_test_dataset, num_examples=5, max_source_length=512):\n",
    "    model.eval()  # Set the model to evaluation mode\n",
    "    model.to(\"cuda\" if torch.cuda.is_available() else \"cpu\")  # Move model to the appropriate device\n",
    "\n",
    "    for i in range(num_examples):\n",
    "        input_dialogue = original_test_dataset[i][\"dialogue\"]\n",
    "        input_ids = tokenizer.encode(\n",
    "            input_dialogue, return_tensors=\"pt\", max_length=max_source_length, truncation=True\n",
    "        ).to(model.device)\n",
    "\n",
    "        # Generate summary\n",
    "        output_ids = model.generate(input_ids=input_ids, max_length=128, num_beams=4)\n",
    "        generated_summary = tokenizer.decode(output_ids[0], skip_special_tokens=True)\n",
    "\n",
    "        # Print input and outputs\n",
    "        print(f\"Input Dialogue: {input_dialogue}\")\n",
    "        print(f\"Generated Summary: {generated_summary}\")\n",
    "        print(f\"Reference Summary: {original_test_dataset[i]['summary']}\")\n",
    "        print(\"-\" * 50)\n",
    "\n",
    "\n",
    "# Example Usage\n",
    "model_path = \"./bart-large-cnn-finetuned-dialogsum\"  # Path to your saved model\n",
    "model, tokenizer = load_model_and_tokenizer(model_path)\n",
    "generate_summaries(model, tokenizer, original_test_dataset)"
   ]
  },
  {
   "cell_type": "code",
   "execution_count": null,
   "metadata": {},
   "outputs": [],
   "source": [
    "\n",
    "# def evaluate_model(decoded_preds, test_dataset):  # No need for model_name\n",
    "#     rouge = evaluate.load(\"rouge\")\n",
    "#     references = test_dataset[\"summary\"]\n",
    "#     rouge_results = rouge.compute(predictions=decoded_preds, references=references)\n",
    "\n",
    "#     print(\"ROUGE-1:\", rouge_results[\"rouge1\"])\n",
    "#     print(\"ROUGE-2:\", rouge_results[\"rouge2\"])\n",
    "#     print(\"ROUGE-L:\", rouge_results[\"rougeL\"])\n",
    "\n",
    "#     P, R, F1 = score(decoded_preds, references, lang=\"en\", verbose=True)\n",
    "#     print(\"BERTScore F1:\", F1.mean().item())\n"
   ]
  }
 ],
 "metadata": {
  "kernelspec": {
   "display_name": "base",
   "language": "python",
   "name": "python3"
  },
  "language_info": {
   "codemirror_mode": {
    "name": "ipython",
    "version": 3
   },
   "file_extension": ".py",
   "mimetype": "text/x-python",
   "name": "python",
   "nbconvert_exporter": "python",
   "pygments_lexer": "ipython3",
   "version": "3.11.10"
  }
 },
 "nbformat": 4,
 "nbformat_minor": 2
}
